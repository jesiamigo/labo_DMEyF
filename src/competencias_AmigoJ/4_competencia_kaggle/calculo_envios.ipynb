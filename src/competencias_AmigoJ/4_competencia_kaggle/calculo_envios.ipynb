{
 "cells": [
  {
   "cell_type": "code",
   "execution_count": 83,
   "id": "53200774-605d-448c-bd21-462d789b18f7",
   "metadata": {},
   "outputs": [],
   "source": [
    "import pandas as pd\n",
    "import numpy as np"
   ]
  },
  {
   "cell_type": "code",
   "execution_count": 84,
   "id": "3c81ded9-378e-4cba-a11b-86f39dd307fc",
   "metadata": {},
   "outputs": [],
   "source": [
    "path='C:\\\\Users\\\\jesia\\\\Desktop\\\\4_DMEyF\\\\comp4\\\\pred\\\\para_prediccion_kaggle\\\\'\n",
    "path_pred = path+'pred_combo.xlsx'"
   ]
  },
  {
   "cell_type": "code",
   "execution_count": 85,
   "id": "a0fec211-e511-4b7c-8192-2731aff4ba4d",
   "metadata": {},
   "outputs": [
    {
     "data": {
      "text/plain": [
       "(164935, 4)"
      ]
     },
     "execution_count": 85,
     "metadata": {},
     "output_type": "execute_result"
    }
   ],
   "source": [
    "df = pd.read_excel(path_pred)\n",
    "df.shape"
   ]
  },
  {
   "cell_type": "code",
   "execution_count": 86,
   "id": "aeb8e197-42ec-43b5-9d1a-eda4709cadd5",
   "metadata": {},
   "outputs": [
    {
     "data": {
      "text/plain": [
       "(164935, 2)"
      ]
     },
     "execution_count": 86,
     "metadata": {},
     "output_type": "execute_result"
    }
   ],
   "source": [
    "prob = df[['numero_de_cliente', 'promedio_final']]\n",
    "prob.shape"
   ]
  },
  {
   "cell_type": "code",
   "execution_count": 87,
   "id": "7c04a8db-a972-45b7-b25e-b3326eab3807",
   "metadata": {},
   "outputs": [],
   "source": [
    "clientes_x_prob_asc = prob.sort_values(by=['promedio_final'], ascending=False)['numero_de_cliente'].to_list()"
   ]
  },
  {
   "cell_type": "code",
   "execution_count": 88,
   "id": "e848f120-170e-42a2-b39c-b7cf88520003",
   "metadata": {},
   "outputs": [
    {
     "data": {
      "text/plain": [
       "list"
      ]
     },
     "execution_count": 88,
     "metadata": {},
     "output_type": "execute_result"
    }
   ],
   "source": [
    "type(clientes_x_prob_asc)"
   ]
  },
  {
   "cell_type": "code",
   "execution_count": 89,
   "id": "380b5563-27be-4a3a-9a93-2bde2c6fb3e2",
   "metadata": {},
   "outputs": [
    {
     "data": {
      "text/plain": [
       "10000"
      ]
     },
     "execution_count": 89,
     "metadata": {},
     "output_type": "execute_result"
    }
   ],
   "source": [
    "envios_numero_de_cliente = clientes_x_prob_asc[0:10000]\n",
    "len(envios_numero_de_cliente)"
   ]
  },
  {
   "cell_type": "code",
   "execution_count": 90,
   "id": "77d4256a-8c00-420c-ada3-6219120645e3",
   "metadata": {},
   "outputs": [],
   "source": [
    "#prob[prob['numero_de_cliente'].isin(envios_numero_de_cliente)]\n",
    "prediccion = np.where(prob['numero_de_cliente'].isin(envios_numero_de_cliente) == True, 1, 0)\n"
   ]
  },
  {
   "cell_type": "code",
   "execution_count": 91,
   "id": "d2ef4d43-4d58-4ceb-9d9e-6a498ffd93c5",
   "metadata": {},
   "outputs": [
    {
     "name": "stderr",
     "output_type": "stream",
     "text": [
      "C:\\Users\\jesia\\AppData\\Local\\Temp\\ipykernel_16200\\2473325020.py:1: SettingWithCopyWarning: \n",
      "A value is trying to be set on a copy of a slice from a DataFrame.\n",
      "Try using .loc[row_indexer,col_indexer] = value instead\n",
      "\n",
      "See the caveats in the documentation: https://pandas.pydata.org/pandas-docs/stable/user_guide/indexing.html#returning-a-view-versus-a-copy\n",
      "  prob['Predicted'] = prediccion\n"
     ]
    },
    {
     "data": {
      "text/html": [
       "<div>\n",
       "<style scoped>\n",
       "    .dataframe tbody tr th:only-of-type {\n",
       "        vertical-align: middle;\n",
       "    }\n",
       "\n",
       "    .dataframe tbody tr th {\n",
       "        vertical-align: top;\n",
       "    }\n",
       "\n",
       "    .dataframe thead th {\n",
       "        text-align: right;\n",
       "    }\n",
       "</style>\n",
       "<table border=\"1\" class=\"dataframe\">\n",
       "  <thead>\n",
       "    <tr style=\"text-align: right;\">\n",
       "      <th></th>\n",
       "      <th>numero_de_cliente</th>\n",
       "      <th>promedio_final</th>\n",
       "      <th>Predicted</th>\n",
       "    </tr>\n",
       "  </thead>\n",
       "  <tbody>\n",
       "    <tr>\n",
       "      <th>0</th>\n",
       "      <td>156968062</td>\n",
       "      <td>0.929287</td>\n",
       "      <td>1</td>\n",
       "    </tr>\n",
       "    <tr>\n",
       "      <th>1</th>\n",
       "      <td>176392144</td>\n",
       "      <td>0.855501</td>\n",
       "      <td>1</td>\n",
       "    </tr>\n",
       "    <tr>\n",
       "      <th>2</th>\n",
       "      <td>82760029</td>\n",
       "      <td>0.843444</td>\n",
       "      <td>1</td>\n",
       "    </tr>\n",
       "    <tr>\n",
       "      <th>3</th>\n",
       "      <td>64428355</td>\n",
       "      <td>0.841701</td>\n",
       "      <td>1</td>\n",
       "    </tr>\n",
       "    <tr>\n",
       "      <th>4</th>\n",
       "      <td>126473946</td>\n",
       "      <td>0.830163</td>\n",
       "      <td>1</td>\n",
       "    </tr>\n",
       "  </tbody>\n",
       "</table>\n",
       "</div>"
      ],
      "text/plain": [
       "   numero_de_cliente  promedio_final  Predicted\n",
       "0          156968062        0.929287          1\n",
       "1          176392144        0.855501          1\n",
       "2           82760029        0.843444          1\n",
       "3           64428355        0.841701          1\n",
       "4          126473946        0.830163          1"
      ]
     },
     "execution_count": 91,
     "metadata": {},
     "output_type": "execute_result"
    }
   ],
   "source": [
    "prob['Predicted'] = prediccion\n",
    "prob.head(5)"
   ]
  },
  {
   "cell_type": "code",
   "execution_count": 92,
   "id": "d136fd55-5688-4130-b701-b6d1c3cc9f19",
   "metadata": {},
   "outputs": [],
   "source": [
    "prob[['numero_de_cliente', 'Predicted']].to_csv(path+'envio_10000.csv')"
   ]
  },
  {
   "cell_type": "code",
   "execution_count": 93,
   "id": "bf8b9dcf-a629-4c3c-a9c7-df0a2b7927fd",
   "metadata": {},
   "outputs": [
    {
     "data": {
      "text/plain": [
       "0    154935\n",
       "1     10000\n",
       "Name: Predicted, dtype: int64"
      ]
     },
     "execution_count": 93,
     "metadata": {},
     "output_type": "execute_result"
    }
   ],
   "source": [
    "prob[['numero_de_cliente', 'Predicted']]['Predicted'].value_counts(dropna=False)"
   ]
  }
 ],
 "metadata": {
  "kernelspec": {
   "display_name": "Python 3 (ipykernel)",
   "language": "python",
   "name": "python3"
  },
  "language_info": {
   "codemirror_mode": {
    "name": "ipython",
    "version": 3
   },
   "file_extension": ".py",
   "mimetype": "text/x-python",
   "name": "python",
   "nbconvert_exporter": "python",
   "pygments_lexer": "ipython3",
   "version": "3.10.6"
  }
 },
 "nbformat": 4,
 "nbformat_minor": 5
}
